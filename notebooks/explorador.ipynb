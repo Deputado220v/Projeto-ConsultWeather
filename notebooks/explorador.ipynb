{
 "cells": [
  {
   "cell_type": "markdown",
   "id": "59bb2044",
   "metadata": {},
   "source": [
    "Criando a API de clima\n"
   ]
  },
  {
   "cell_type": "code",
   "execution_count": 1,
   "id": "01586145",
   "metadata": {},
   "outputs": [],
   "source": [
    "import requests \n",
    "import pandas as pd "
   ]
  },
  {
   "cell_type": "markdown",
   "id": "6865c280",
   "metadata": {},
   "source": [
    "Definindo os parametros da requisição"
   ]
  },
  {
   "cell_type": "code",
   "execution_count": 2,
   "id": "0f39f408",
   "metadata": {},
   "outputs": [
    {
     "name": "stdout",
     "output_type": "stream",
     "text": [
      "Fazendo requisição para São Roque por 30 dias...\n"
     ]
    }
   ],
   "source": [
    "city_name = input('Qual e a cidade?')\n",
    "days_prevision = 30\n",
    "access_token = '6aa00d442dc345219d200700250806'\n",
    "api_url = f'http://api.weatherapi.com/v1/forecast.json?key={access_token}&q={city_name}&days={days_prevision}&aqi=no&alerts=no'\n",
    "print(f\"Fazendo requisição para {city_name} por {days_prevision} dias...\")\n",
    "answer = requests.get(f'{api_url}')\n",
    "answer_status_code = answer.status_code"
   ]
  },
  {
   "cell_type": "markdown",
   "id": "0da0b14e",
   "metadata": {},
   "source": [
    "Resposta da requisição"
   ]
  },
  {
   "cell_type": "code",
   "execution_count": null,
   "id": "811a5494",
   "metadata": {},
   "outputs": [
    {
     "name": "stdout",
     "output_type": "stream",
     "text": [
      "Dados de 14 dias para São Roque salvos com sucesso.\n"
     ]
    }
   ],
   "source": [
    "# Resposta da requisição\n",
    "if answer_status_code == 200:\n",
    "    dados_clima = answer.json()\n",
    "    previsoes = []\n",
    "\n",
    "    # Este loop irá naturalmente iterar sobre todos os 'days_prevision' dias retornados\n",
    "    for dia in dados_clima['forecast']['forecastday']:\n",
    "        clima = [\n",
    "            dia['date'],\n",
    "            dados_clima['location']['name'],\n",
    "            dados_clima['location']['region'],\n",
    "            dia['day']['maxtemp_c'],\n",
    "            dia['day']['mintemp_c'],\n",
    "            dia['day']['condition']['text']\n",
    "        ]\n",
    "        previsoes.append(clima)\n",
    "\n",
    "    colunas = ['Data', 'Cidade', 'Estado', 'Temperatura Máxima (C)', 'Temperatura Mínima (C)', 'Condição']\n",
    "    dados_armazenados = pd.DataFrame(previsoes, columns=colunas)\n",
    "    # Recomendo um nome de arquivo que reflita que são vários dias\n",
    "    dados_armazenados.to_csv(f'../dados/{city_name.lower().replace(\" \", \"_\")}_clima_{days_prevision}_days.csv', encoding='utf-8-sig', index=False)\n",
    "    print(f\"Dados de {len(previsoes)} dias para {city_name} salvos com sucesso.\")\n",
    "\n"
   ]
  },
  {
   "cell_type": "code",
   "execution_count": null,
   "id": "abf30cb9",
   "metadata": {},
   "outputs": [],
   "source": []
  }
 ],
 "metadata": {
  "kernelspec": {
   "display_name": "venv",
   "language": "python",
   "name": "python3"
  },
  "language_info": {
   "codemirror_mode": {
    "name": "ipython",
    "version": 3
   },
   "file_extension": ".py",
   "mimetype": "text/x-python",
   "name": "python",
   "nbconvert_exporter": "python",
   "pygments_lexer": "ipython3",
   "version": "3.10.12"
  }
 },
 "nbformat": 4,
 "nbformat_minor": 5
}
